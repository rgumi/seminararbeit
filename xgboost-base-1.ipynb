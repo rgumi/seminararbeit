{
  "nbformat": 4,
  "nbformat_minor": 0,
  "metadata": {
    "colab": {
      "name": "Prediction-Challenge-XGBoost",
      "provenance": [],
      "include_colab_link": true
    },
    "kernelspec": {
      "name": "python3",
      "display_name": "Python 3"
    },
    "accelerator": "GPU"
  },
  "cells": [
    {
      "cell_type": "markdown",
      "metadata": {
        "id": "view-in-github",
        "colab_type": "text"
      },
      "source": [
        "<a href=\"https://colab.research.google.com/github/rgumi/seminararbeit/blob/master/xgboost-base-1.ipynb\" target=\"_parent\"><img src=\"https://colab.research.google.com/assets/colab-badge.svg\" alt=\"Open In Colab\"/></a>"
      ]
    },
    {
      "cell_type": "code",
      "metadata": {
        "id": "4rrQrTCrhbO8",
        "colab_type": "code",
        "colab": {}
      },
      "source": [
        "from scipy.stats import randint\n",
        "from datetime import date as d\n",
        "from datetime import datetime as dt\n",
        "import numpy as np\n",
        "import pandas as pd \n",
        "import json\n",
        "import urllib.request\n",
        "pd.options.mode.chained_assignment = None\n",
        "\n",
        "\n",
        "from sklearn.pipeline import Pipeline\n",
        "from sklearn.preprocessing import MinMaxScaler, OrdinalEncoder, OneHotEncoder\n",
        "from sklearn.compose import ColumnTransformer\n",
        "from sklearn.model_selection import cross_validate, RandomizedSearchCV\n",
        "from sklearn.metrics import accuracy_score, recall_score, precision_score, f1_score, make_scorer\n",
        "# from sklearn.ensemble import RandomForestClassifier\n",
        "\n",
        "\n",
        "import xgboost as xgb\n",
        "from xgboost.sklearn import XGBClassifier"
      ],
      "execution_count": 0,
      "outputs": []
    },
    {
      "cell_type": "code",
      "metadata": {
        "id": "cFqbnUk61S-K",
        "colab_type": "code",
        "outputId": "4553313b-70ed-4f7b-ce53-4f0363e98f2b",
        "colab": {
          "base_uri": "https://localhost:8080/",
          "height": 34
        }
      },
      "source": [
        "mountpath = \"/content/drive\"\n",
        "from google.colab import drive\n",
        "drive.mount(mountpath)"
      ],
      "execution_count": 0,
      "outputs": [
        {
          "output_type": "stream",
          "text": [
            "Drive already mounted at /content/drive; to attempt to forcibly remount, call drive.mount(\"/content/drive\", force_remount=True).\n"
          ],
          "name": "stdout"
        }
      ]
    },
    {
      "cell_type": "markdown",
      "metadata": {
        "id": "it4y2L0q11tH",
        "colab_type": "text"
      },
      "source": [
        "Data Import"
      ]
    },
    {
      "cell_type": "code",
      "metadata": {
        "id": "m6v1pFFs2FfD",
        "colab_type": "code",
        "colab": {}
      },
      "source": [
        "dataset = pd.read_csv(\n",
        "    'https://raw.githubusercontent.com/saschaschworm/big-data-and-data-science/' +\n",
        "    'master/datasets/prediction-challenge/dataset.csv', \n",
        "    index_col='identifier', parse_dates=['date'])\n",
        "\n",
        "prediction_dataset = pd.read_csv(\n",
        "    'https://raw.githubusercontent.com/saschaschworm/big-data-and-data-science/' +\n",
        "    'master/datasets/prediction-challenge/prediction-dataset.csv', \n",
        "    index_col='identifier', parse_dates=['date'])"
      ],
      "execution_count": 0,
      "outputs": []
    },
    {
      "cell_type": "markdown",
      "metadata": {
        "id": "4VsCbmzz18Wh",
        "colab_type": "text"
      },
      "source": [
        "Funktion for Feature Engineering"
      ]
    },
    {
      "cell_type": "code",
      "metadata": {
        "id": "wm--aIFx18F3",
        "colab_type": "code",
        "colab": {}
      },
      "source": [
        "def derive_age(age):\n",
        "  if age <=26:\n",
        "    return \"jung\"\n",
        "  if age <=41:\n",
        "    return \"middel\"\n",
        "  if age > 41:\n",
        "    return \"old\"\n",
        "\n",
        "def derive_dslc(days_since_last_contact):\n",
        "  if days_since_last_contact == -1:\n",
        "    return None\n",
        "  else:\n",
        "    return days_since_last_contact\n",
        "\n",
        "def derive_marital(marital_status):\n",
        "  if marital_status == 'Unknown':\n",
        "    return \"NaN\"\n",
        "  else:\n",
        "    return marital_status\n",
        "\n",
        "\n",
        "def derive_credit(credit_default):\n",
        "  if credit_default == 'Unknown':\n",
        "    return \"NaN\"\n",
        "  else:\n",
        "    return credit_default\n",
        "\n",
        "def derive_housing(housing_loan):\n",
        "  if housing_loan == 'Unknown':\n",
        "    return \"NaN\"\n",
        "  else:\n",
        "    return housing_loan\n",
        "\n",
        "def derive_personal(personal_loan):\n",
        "  if personal_loan == 'Unknown':\n",
        "    return \"NaN\"\n",
        "  else:\n",
        "    return personal_loan"
      ],
      "execution_count": 0,
      "outputs": []
    },
    {
      "cell_type": "markdown",
      "metadata": {
        "id": "uBXCU0or2dit",
        "colab_type": "text"
      },
      "source": [
        "Feature Engineering"
      ]
    },
    {
      "cell_type": "code",
      "metadata": {
        "id": "kAW5xaxrnqxF",
        "colab_type": "code",
        "colab": {}
      },
      "source": [
        "# Training\n",
        "dataset.insert(len(dataset.columns)-1, \"Weekday\", dataset.date.dt.weekday)\n",
        "dataset.insert(len(dataset.columns)-1, \"Month\", dataset.date.dt.month)\n",
        "dataset.insert(len(dataset.columns)-1, \"Year\", dataset.date.dt.year)\n",
        "dataset.insert(len(dataset.columns)-1, \"age_group\", dataset['age'].apply(derive_age))\n",
        "dataset.insert(len(dataset.columns)-1, \"quarter\", dataset.date.dt.quarter)\n",
        "dataset.insert(len(dataset.columns)-1, \"duration_per_Contract\", dataset['duration']/dataset['n_contacts_campaign'])\n",
        "dataset.drop(['date'], axis=1, inplace=True)\n",
        "\n",
        "# Test\n",
        "prediction_dataset.insert(len(prediction_dataset.columns), \"Weekday\",prediction_dataset.date.dt.weekday)\n",
        "prediction_dataset.insert(len(prediction_dataset.columns), \"Month\", prediction_dataset.date.dt.month)\n",
        "prediction_dataset.insert(len(prediction_dataset.columns), \"Year\", prediction_dataset.date.dt.year)\n",
        "prediction_dataset.insert(len(prediction_dataset.columns), \"age_group\", prediction_dataset['age'].apply(derive_age))\n",
        "prediction_dataset.insert(len(prediction_dataset.columns), \"quarter\", prediction_dataset.date.dt.quarter)\n",
        "prediction_dataset.insert(len(prediction_dataset.columns), \"duration_per_Contract\", prediction_dataset['duration']/prediction_dataset['n_contacts_campaign'])\n",
        "prediction_dataset.drop(['date'], axis=1, inplace=True)"
      ],
      "execution_count": 0,
      "outputs": []
    },
    {
      "cell_type": "markdown",
      "metadata": {
        "id": "CBX5b2Ot2Slo",
        "colab_type": "text"
      },
      "source": [
        "Set Unknown to None"
      ]
    },
    {
      "cell_type": "code",
      "metadata": {
        "id": "Sqi7T7ac2Wnf",
        "colab_type": "code",
        "colab": {}
      },
      "source": [
        "#dataset['days_since_last_contact'] = dataset['days_since_last_contact'].apply(derive_dslc)\n",
        "#dataset['credit_default'] = dataset['credit_default'].apply(derive_credit)\n",
        "#dataset['housing_loan'] = dataset['housing_loan'].apply(derive_housing)\n",
        "#dataset['personal_loan'] = dataset['personal_loan'].apply(derive_personal)\n",
        "#dataset['marital_status'] = dataset['marital_status'].apply(derive_marital)\n",
        "#dataset"
      ],
      "execution_count": 0,
      "outputs": []
    },
    {
      "cell_type": "markdown",
      "metadata": {
        "id": "fzXOHuat2WCY",
        "colab_type": "text"
      },
      "source": [
        "Model, Pipeline and Scoring Initialization"
      ]
    },
    {
      "cell_type": "code",
      "metadata": {
        "id": "h3M9HIJW2qQH",
        "colab_type": "code",
        "colab": {}
      },
      "source": [
        "X, y = dataset.iloc[:, 0:-1], dataset['success']"
      ],
      "execution_count": 0,
      "outputs": []
    },
    {
      "cell_type": "markdown",
      "metadata": {
        "id": "hIcJ0dOh2uYV",
        "colab_type": "text"
      },
      "source": [
        "Pipeline"
      ]
    },
    {
      "cell_type": "code",
      "metadata": {
        "id": "g96skJwS2wOb",
        "colab_type": "code",
        "colab": {}
      },
      "source": [
        "hyperparams = { 'seed': 1909,\n",
        "                'nthread': -1\n",
        "               }\n",
        "\n",
        "model = xgb.XGBClassifier(**hyperparams)"
      ],
      "execution_count": 0,
      "outputs": []
    },
    {
      "cell_type": "code",
      "metadata": {
        "id": "WydWwqETnep3",
        "colab_type": "code",
        "outputId": "0c75eca5-1411-45a6-dbe3-7aa14fd18178",
        "colab": {
          "base_uri": "https://localhost:8080/",
          "height": 454
        }
      },
      "source": [
        "numerical_features = [\"age\",\"n_contacts_before\", \"duration\",\"quarter\"]\n",
        "numerical_transformer = Pipeline([\n",
        "      ('scaler', MinMaxScaler()),\n",
        "])\n",
        "\n",
        "categorical_features = [\"age_group\", \"days_since_last_contact\",\"communication_type\", \"credit_default\",\"housing_loan\", \"personal_loan\",\n",
        "                        \"education\",\"job\", \"Weekday\",\"Month\",\"Year\"]\n",
        "categorical_transformer = Pipeline([\n",
        "      #('features', MissingIndicator(missing_values=-1)),\n",
        "      ('onehotencoder', OneHotEncoder(handle_unknown = 'ignore')),\n",
        "])\n",
        "\n",
        "ordinal_features = [\"marital_status\",\"previous_conversion\"]\n",
        "ordinal_transformer = Pipeline([\n",
        "      #('features', MissingIndicator(missing_values=\"Unknown\")),\n",
        "      ('ordinalencoder', OrdinalEncoder()),\n",
        "])\n",
        "\n",
        "preprocessor = ColumnTransformer([\n",
        "      ('numerical_transformer', numerical_transformer, numerical_features),\n",
        "      ('categorical_transformer', categorical_transformer, categorical_features),\n",
        "      ('ordinal_transformer', ordinal_transformer, ordinal_features),\n",
        "])\n",
        "pipeline = Pipeline([\n",
        "      ('preprocessor', preprocessor),\n",
        "      ('model',model),            \n",
        "])\n",
        "\n",
        "pipeline.fit(X,y)"
      ],
      "execution_count": 0,
      "outputs": [
        {
          "output_type": "execute_result",
          "data": {
            "text/plain": [
              "Pipeline(memory=None,\n",
              "         steps=[('preprocessor',\n",
              "                 ColumnTransformer(n_jobs=None, remainder='drop',\n",
              "                                   sparse_threshold=0.3,\n",
              "                                   transformer_weights=None,\n",
              "                                   transformers=[('numerical_transformer',\n",
              "                                                  Pipeline(memory=None,\n",
              "                                                           steps=[('scaler',\n",
              "                                                                   MinMaxScaler(copy=True,\n",
              "                                                                                feature_range=(0,\n",
              "                                                                                               1)))],\n",
              "                                                           verbose=False),\n",
              "                                                  ['age', 'n_contacts_before',\n",
              "                                                   'duration', 'quarter']),\n",
              "                                                 ('categorical_transformer...\n",
              "                 XGBClassifier(base_score=0.5, booster='gbtree',\n",
              "                               colsample_bylevel=1, colsample_bynode=1,\n",
              "                               colsample_bytree=1, gamma=0, learning_rate=0.1,\n",
              "                               max_delta_step=0, max_depth=3,\n",
              "                               min_child_weight=1, missing=None,\n",
              "                               n_estimators=100, n_jobs=1, nthread=-1,\n",
              "                               objective='binary:logistic', random_state=0,\n",
              "                               reg_alpha=0, reg_lambda=1, scale_pos_weight=1,\n",
              "                               seed=1909, silent=None, subsample=1,\n",
              "                               verbosity=1))],\n",
              "         verbose=False)"
            ]
          },
          "metadata": {
            "tags": []
          },
          "execution_count": 9
        }
      ]
    },
    {
      "cell_type": "code",
      "metadata": {
        "id": "b8h4MCjsnXBN",
        "colab_type": "code",
        "colab": {}
      },
      "source": [
        "# randomized hyperparameter optimization\n",
        "# https://www.analyticsvidhya.com/blog/2016/03/complete-guide-parameter-tuning-xgboost-with-codes-python/\n",
        "\n",
        "custom_scorer = make_scorer(f1_score, pos_label='Yes')\n",
        "n_estimators = randint(50, 150)\n",
        "max_depth = randint(15, 40)\n",
        "learning_rate = 0.1\n",
        "\n",
        "min_child_weight = 0.1\n",
        "gamma = 1\n",
        "colsample_bytree = 0.5\n",
        "colsample_bylevel = 0.5\n",
        "colsample_bynode = 0.5\n",
        "subsample = 0.6\n",
        "scale_pos_weight = 9\n",
        "base_score = 0.5\n",
        "reg_lambda = 2\n",
        "\n",
        "\n",
        "hyperparams = {'seed': 1909,\n",
        "               'learning_rate': learning_rate,\n",
        "               'min_child_weight': min_child_weight,\n",
        "               'scale_pos_weight': scale_pos_weight,\n",
        "               'colsample_bylevel': colsample_bylevel,\n",
        "               'colsample_bytree': colsample_bytree,\n",
        "               'colsample_bynode': colsample_bynode,\n",
        "               'gamma': gamma,\n",
        "               'subsample': subsample,\n",
        "               'base_score': base_score,\n",
        "               'nthread': -1,\n",
        "               'booster': 'gbtree',\n",
        "               'objective': 'binary:logistic',\n",
        "               'silent': True,\n",
        "               'reg_lambda': reg_lambda,\n",
        "               'missing': None,\n",
        "               'max_delta_step': 0\n",
        "            }\n",
        "\n",
        "param_distributions = { 'model__n_estimators': n_estimators,\n",
        "                        'model__max_depth': max_depth\n",
        "                      }\n",
        "\n",
        "model = xgb.XGBClassifier(**hyperparams)\n",
        "\n",
        "pipeline = Pipeline([\n",
        "    ('preprocessor', preprocessor), \n",
        "    ('model', model)\n",
        "])\n",
        "\n",
        "rs = RandomizedSearchCV(pipeline, param_distributions=param_distributions, n_iter=5,\n",
        "                       scoring=custom_scorer, n_jobs=-1, cv=10, random_state=1909)\n",
        "\n",
        "# rs = rs.fit(X, y)\n",
        "# print(rs.best_params_)"
      ],
      "execution_count": 0,
      "outputs": []
    },
    {
      "cell_type": "code",
      "metadata": {
        "id": "fGEibMYUnRQy",
        "colab_type": "code",
        "outputId": "377b34d0-1cbb-4794-a580-13943a4b4cea",
        "colab": {
          "base_uri": "https://localhost:8080/",
          "height": 454
        }
      },
      "source": [
        "# run optimized model\n",
        "hyperparams = {'seed': 1909,\n",
        "               'learning_rate': learning_rate,\n",
        "               'min_child_weight': min_child_weight,\n",
        "               'scale_pos_weight': scale_pos_weight,\n",
        "               'colsample_bylevel': colsample_bylevel,\n",
        "               'colsample_bytree': colsample_bytree,\n",
        "               'colsample_bynode': colsample_bynode,\n",
        "               'max_depth': 28, # rs.best_params_['model__max_depth'], # 28\n",
        "               'n_estimators': 65, # rs.best_params_['model__n_estimators'], # 65\n",
        "               'gamma': gamma,\n",
        "               'subsample': subsample,\n",
        "               'base_score': base_score,\n",
        "               'nthread': -1,\n",
        "               'booster': 'gbtree',\n",
        "               'objective': 'binary:logistic',\n",
        "               'silent': True,\n",
        "               'reg_lambda': reg_lambda,\n",
        "               'missing': None,\n",
        "               'max_delta_step': 0\n",
        "            }\n",
        "\n",
        "model = xgb.XGBClassifier(**hyperparams)\n",
        "\n",
        "pipeline = Pipeline([\n",
        "    ('preprocessor', preprocessor), \n",
        "    ('model', model)\n",
        "])\n",
        "pipeline.fit(X, y)"
      ],
      "execution_count": 0,
      "outputs": [
        {
          "output_type": "execute_result",
          "data": {
            "text/plain": [
              "Pipeline(memory=None,\n",
              "         steps=[('preprocessor',\n",
              "                 ColumnTransformer(n_jobs=None, remainder='drop',\n",
              "                                   sparse_threshold=0.3,\n",
              "                                   transformer_weights=None,\n",
              "                                   transformers=[('numerical_transformer',\n",
              "                                                  Pipeline(memory=None,\n",
              "                                                           steps=[('scaler',\n",
              "                                                                   MinMaxScaler(copy=True,\n",
              "                                                                                feature_range=(0,\n",
              "                                                                                               1)))],\n",
              "                                                           verbose=False),\n",
              "                                                  ['age', 'n_contacts_before',\n",
              "                                                   'duration', 'quarter']),\n",
              "                                                 ('categorical_transformer...\n",
              "                 XGBClassifier(base_score=0.5, booster='gbtree',\n",
              "                               colsample_bylevel=0.5, colsample_bynode=0.5,\n",
              "                               colsample_bytree=0.5, gamma=1, learning_rate=0.1,\n",
              "                               max_delta_step=0, max_depth=28,\n",
              "                               min_child_weight=0.1, missing=None,\n",
              "                               n_estimators=65, n_jobs=1, nthread=-1,\n",
              "                               objective='binary:logistic', random_state=0,\n",
              "                               reg_alpha=0, reg_lambda=2, scale_pos_weight=9,\n",
              "                               seed=1909, silent=True, subsample=0.6,\n",
              "                               verbosity=1))],\n",
              "         verbose=False)"
            ]
          },
          "metadata": {
            "tags": []
          },
          "execution_count": 11
        }
      ]
    },
    {
      "cell_type": "code",
      "metadata": {
        "id": "aRYFhgewnOFk",
        "colab_type": "code",
        "colab": {}
      },
      "source": [
        "# validating\n",
        "res_cv = cross_validate(pipeline, X, y, scoring=custom_scorer, cv=10, return_train_score=True)\n",
        "res_f1_tr = np.mean(res_cv['train_score']) * 100\n",
        "res_f1_te = np.mean(res_cv['test_score']) * 100\n",
        "print(hyperparams)\n",
        "result = f'Average F1 on Training and Test Sets: {res_f1_tr:.2f}%/{res_f1_te:.2f}%'\n",
        "print(result)"
      ],
      "execution_count": 0,
      "outputs": []
    },
    {
      "cell_type": "code",
      "metadata": {
        "id": "l4tOSNqMdCvF",
        "colab_type": "code",
        "colab": {}
      },
      "source": [
        "# persists results for later analysis\n",
        "\n",
        "resultJSON = {\n",
        "    \"date\": dt.now().strftime(\"%d.%m.%Y, %H:%M:%S\"),\n",
        "    \"result\": result,\n",
        "    \"hyperparams\": hyperparams\n",
        "}\n",
        "\n",
        "with open(mountpath + '/My Drive/seminararbeit/results-xgb.txt', 'a') as file:\n",
        "  file.write(str(resultJSON) + '\\n')\n"
      ],
      "execution_count": 0,
      "outputs": []
    },
    {
      "cell_type": "markdown",
      "metadata": {
        "id": "3MjvCwoMTyEq",
        "colab_type": "text"
      },
      "source": [
        "Submission Dataset Preparation"
      ]
    },
    {
      "cell_type": "code",
      "metadata": {
        "id": "-x-MuwTJTy9X",
        "colab_type": "code",
        "colab": {}
      },
      "source": [
        "submission = pd.DataFrame(\n",
        "    predictions, index=prediction_dataset.index, columns=['prediction'])"
      ],
      "execution_count": 0,
      "outputs": []
    },
    {
      "cell_type": "code",
      "metadata": {
        "id": "71mSQAaiT0hz",
        "colab_type": "code",
        "colab": {}
      },
      "source": [
        "matriculation_number = '465530'"
      ],
      "execution_count": 0,
      "outputs": []
    },
    {
      "cell_type": "code",
      "metadata": {
        "id": "S-tTG-qaT18T",
        "colab_type": "code",
        "colab": {}
      },
      "source": [
        "submission.to_csv(\n",
        "    f'./submission-' + matriculation_number +'.csv', index_label='identifier')"
      ],
      "execution_count": 0,
      "outputs": []
    }
  ]
}